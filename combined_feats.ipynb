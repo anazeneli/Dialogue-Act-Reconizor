{
 "cells": [
  {
   "cell_type": "code",
   "execution_count": 1,
   "metadata": {},
   "outputs": [],
   "source": [
    "import pandas as pd\n",
    "from sklearn.neural_network import MLPClassifier\n",
    "from sklearn import preprocessing\n",
    "from sklearn.metrics import classification_report,confusion_matrix, accuracy_score\n",
    "import numpy as np\n",
    "from sklearn.preprocessing import StandardScaler  \n",
    "\n",
    "train = pd.read_csv(\"train_merged.csv\", low_memory=False)\n",
    "# pd.set_option('display.max_columns', 500)\n",
    "test = pd.read_csv(\"test_merged.csv\", low_memory=False)\n",
    "# targets\n",
    "act_classes = ['sd', 'b', 'sv', '%', 'fc', 'aa', 'ba', 'qy', 'x', 'ny']"
   ]
  },
  {
   "cell_type": "code",
   "execution_count": 2,
   "metadata": {},
   "outputs": [],
   "source": [
    "# training processing\n",
    "train_copy = train.copy()\n",
    "# use only rows w most freq tags\n",
    "data = train_copy[train_copy['act_tag'].isin(act_classes)]\n"
   ]
  },
  {
   "cell_type": "code",
   "execution_count": 3,
   "metadata": {},
   "outputs": [],
   "source": [
    "# test processing\n",
    "test_copy = test.copy()\n",
    "# use only rows w most freq tags\n",
    "test_data = test_copy[test_copy['act_tag'].isin(act_classes)]"
   ]
  },
  {
   "cell_type": "code",
   "execution_count": 4,
   "metadata": {},
   "outputs": [],
   "source": [
    "# targets\n",
    "train_targets = data['act_tag']\n",
    "# targets\n",
    "test_targets = test_data['act_tag']\n",
    "y_test = np.array(test_targets)"
   ]
  },
  {
   "cell_type": "code",
   "execution_count": 5,
   "metadata": {},
   "outputs": [],
   "source": [
    "# cue phrases features \n",
    "cue_df      = pd.read_csv(\"cue_train.csv\", low_memory=False)\n",
    "cue_test_df = pd.read_csv(\"cue_test.csv\", low_memory=False)\n"
   ]
  },
  {
   "cell_type": "code",
   "execution_count": 6,
   "metadata": {},
   "outputs": [],
   "source": [
    "# unigram features \n",
    "uni_df      = pd.read_csv(\"unigram_train.csv\", low_memory=False)\n",
    "uni_test_df = pd.read_csv(\"unigram_test.csv\", low_memory=False)\n"
   ]
  },
  {
   "cell_type": "code",
   "execution_count": 7,
   "metadata": {},
   "outputs": [],
   "source": [
    "# pos features \n",
    "pos_df      = pd.read_csv(\"pos_train.csv\", low_memory=False)\n",
    "pos_test_df = pd.read_csv(\"pos_test.csv\", low_memory=False)\n"
   ]
  },
  {
   "cell_type": "code",
   "execution_count": 11,
   "metadata": {},
   "outputs": [
    {
     "name": "stdout",
     "output_type": "stream",
     "text": [
      "HEY\n"
     ]
    }
   ],
   "source": [
    "print(\"HEY\")\n",
    "combined = pd.concat([cue_df, uni_df, pos_df], axis=1, join='inner')\n",
    "combined_test = pd.concat([cue_test_df, uni_test_df, pos_test_df], axis=1, join='inner')\n",
    "\n",
    "# just the new features \n",
    "combined.to_csv('combined_train.csv')\n",
    "combined_test.to_csv('combined_test.csv')\n",
    "\n",
    "X_train = np.array(combined)\n",
    "y_train = np.array(train_targets)\n",
    "X_test = np.array(combined_test)"
   ]
  },
  {
   "cell_type": "code",
   "execution_count": 12,
   "metadata": {},
   "outputs": [],
   "source": [
    "# standardize \n",
    "scaler = StandardScaler()  \n",
    "# fit only on training data \n",
    "scaler.fit(X_train)  \n",
    "X_train = scaler.transform(X_train)  \n",
    "# apply same transformation to test data\n",
    "X_test = scaler.transform(X_test) "
   ]
  },
  {
   "cell_type": "code",
   "execution_count": 13,
   "metadata": {},
   "outputs": [
    {
     "name": "stdout",
     "output_type": "stream",
     "text": [
      "CLF\n"
     ]
    }
   ],
   "source": [
    "print (\"CLF\") \n",
    "clf = MLPClassifier(hidden_layer_sizes=(100,), max_iter=500, \n",
    "                    alpha=0.0001, early_stopping=True, \n",
    "                    solver='lbfgs', verbose=10,\n",
    "                    random_state=21,tol=0.000000001)\n",
    "clf.fit(X_train, y_train)\n",
    "y_pred = clf.predict(X_test)\n",
    "\n"
   ]
  },
  {
   "cell_type": "code",
   "execution_count": 14,
   "metadata": {},
   "outputs": [
    {
     "name": "stdout",
     "output_type": "stream",
     "text": [
      "[[1986   25  122    4    2    2    4  230   65    0]\n",
      " [   9  372  389   11    4    8    1   43   21    1]\n",
      " [ 113  232 5734   25   15   15    0   18    3    2]\n",
      " [   8  212   24  355   16    0    6   66   68    1]\n",
      " [   4    8   81    8  202    0    1   59   27    1]\n",
      " [   3   59  329    0    0   21    0    0    1    0]\n",
      " [  14   12    3    6    1    0  189  205   85    1]\n",
      " [ 227   66   10   30   40    1  178 8111 1622    2]\n",
      " [  85   73    5   63   12    0   76 2199 1638    1]\n",
      " [   0    1    0    1    1    0    0    3    0  563]]\n"
     ]
    }
   ],
   "source": [
    "print(confusion_matrix(y_test,y_pred))\n"
   ]
  },
  {
   "cell_type": "code",
   "execution_count": 15,
   "metadata": {},
   "outputs": [
    {
     "name": "stdout",
     "output_type": "stream",
     "text": [
      "              precision    recall  f1-score   support\n",
      "\n",
      "           %       0.81      0.81      0.81      2440\n",
      "          aa       0.35      0.43      0.39       859\n",
      "           b       0.86      0.93      0.89      6157\n",
      "          ba       0.71      0.47      0.56       756\n",
      "          fc       0.69      0.52      0.59       391\n",
      "          ny       0.45      0.05      0.09       413\n",
      "          qy       0.42      0.37      0.39       516\n",
      "          sd       0.74      0.79      0.76     10287\n",
      "          sv       0.46      0.39      0.43      4152\n",
      "           x       0.98      0.99      0.99       569\n",
      "\n",
      "   micro avg       0.72      0.72      0.72     26540\n",
      "   macro avg       0.65      0.58      0.59     26540\n",
      "weighted avg       0.71      0.72      0.71     26540\n",
      "\n"
     ]
    }
   ],
   "source": [
    "print(classification_report(y_test,y_pred))\n"
   ]
  },
  {
   "cell_type": "code",
   "execution_count": 16,
   "metadata": {},
   "outputs": [
    {
     "data": {
      "text/plain": [
       "array([0.81393443, 0.4330617 , 0.93129771, 0.46957672, 0.51662404,\n",
       "       0.05084746, 0.36627907, 0.78847089, 0.39450867, 0.98945518])"
      ]
     },
     "execution_count": 16,
     "metadata": {},
     "output_type": "execute_result"
    }
   ],
   "source": [
    "cm = confusion_matrix(y_test,y_pred)\n",
    "cm.diagonal()/cm.sum(axis=1)\n"
   ]
  },
  {
   "cell_type": "code",
   "execution_count": 17,
   "metadata": {},
   "outputs": [
    {
     "data": {
      "text/plain": [
       "0.7223436322532027"
      ]
     },
     "execution_count": 17,
     "metadata": {},
     "output_type": "execute_result"
    }
   ],
   "source": [
    "accuracy_score(y_test, y_pred)\n"
   ]
  },
  {
   "cell_type": "raw",
   "metadata": {},
   "source": []
  }
 ],
 "metadata": {
  "kernelspec": {
   "display_name": "Python 3",
   "language": "python",
   "name": "python3"
  },
  "language_info": {
   "codemirror_mode": {
    "name": "ipython",
    "version": 3
   },
   "file_extension": ".py",
   "mimetype": "text/x-python",
   "name": "python",
   "nbconvert_exporter": "python",
   "pygments_lexer": "ipython3",
   "version": "3.7.3"
  }
 },
 "nbformat": 4,
 "nbformat_minor": 2
}
