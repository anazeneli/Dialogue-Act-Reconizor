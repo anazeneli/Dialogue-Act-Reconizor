{
 "cells": [
  {
   "cell_type": "code",
   "execution_count": 1,
   "metadata": {},
   "outputs": [],
   "source": [
    "from sklearn.metrics import classification_report,confusion_matrix, accuracy_score\n",
    "from sklearn.neural_network import MLPClassifier\n",
    "from sklearn.preprocessing import RobustScaler\n",
    "from sklearn import preprocessing\n",
    "import pandas as pd\n",
    "import numpy as np\n",
    "import re \n",
    "\n",
    "train = pd.read_csv(\"train_merged.csv\", low_memory=False)\n",
    "# pd.set_option('display.max_columns', 500)\n",
    "test = pd.read_csv(\"test_merged.csv\", low_memory=False)\n",
    "# targets\n",
    "act_classes = ['sd', 'b', 'sv', '%', 'fc', 'aa', 'ba', 'qy', 'x', 'ny']"
   ]
  },
  {
   "cell_type": "code",
   "execution_count": 2,
   "metadata": {},
   "outputs": [],
   "source": [
    "# training processing\n",
    "train_copy = train.copy()\n",
    "# use only rows w most freq tags\n",
    "data = train_copy[train_copy['act_tag'].isin(act_classes)]\n"
   ]
  },
  {
   "cell_type": "code",
   "execution_count": 3,
   "metadata": {},
   "outputs": [],
   "source": [
    "# test processing\n",
    "test_copy = test.copy()\n",
    "# use only rows w most freq tags\n",
    "test_data = test_copy[test_copy['act_tag'].isin(act_classes)]\n",
    "\n",
    "# targets\n",
    "train_targets = data['act_tag']\n",
    "test_targets = test_data['act_tag']\n",
    "y_test = np.array(test_targets)"
   ]
  },
  {
   "cell_type": "code",
   "execution_count": 4,
   "metadata": {},
   "outputs": [],
   "source": [
    "def text_words(sentence, filter_disfluency=False):\n",
    "        \"\"\"\n",
    "        Tokenized version of the utterance; filter_disfluency=True\n",
    "        will remove the special utterance notation to make the results\n",
    "        look more like printed text. The tokenization itself is just\n",
    "        spitting on whitespace, with no other simplification. The\n",
    "        return value is a list of str instances.\n",
    "        \"\"\"\n",
    "        t = sentence\n",
    "        if filter_disfluency:\n",
    "            t = re.sub(r\"([+/\\}\\[\\]]|\\{\\w)\", \"\", t)\n",
    "#             t = t.translate(str.maketrans('', '', '?.!-,#'))\n",
    "            t = t.lower()\n",
    "        \n",
    "        return re.split(r\"\\s+\", t.strip())\n",
    "        "
   ]
  },
  {
   "cell_type": "code",
   "execution_count": 5,
   "metadata": {},
   "outputs": [
    {
     "name": "stderr",
     "output_type": "stream",
     "text": [
      "/usr/local/lib/python3.7/site-packages/ipykernel_launcher.py:2: SettingWithCopyWarning: \n",
      "A value is trying to be set on a copy of a slice from a DataFrame.\n",
      "Try using .loc[row_indexer,col_indexer] = value instead\n",
      "\n",
      "See the caveats in the documentation: http://pandas.pydata.org/pandas-docs/stable/indexing.html#indexing-view-versus-copy\n",
      "  \n",
      "/usr/local/lib/python3.7/site-packages/ipykernel_launcher.py:3: SettingWithCopyWarning: \n",
      "A value is trying to be set on a copy of a slice from a DataFrame.\n",
      "Try using .loc[row_indexer,col_indexer] = value instead\n",
      "\n",
      "See the caveats in the documentation: http://pandas.pydata.org/pandas-docs/stable/indexing.html#indexing-view-versus-copy\n",
      "  This is separate from the ipykernel package so we can avoid doing imports until\n"
     ]
    }
   ],
   "source": [
    "# create new column and fill it based on function, which takes from different column but same row\n",
    "data['filtered_text']      = data.apply (lambda row: text_words(row['text'], True), axis=1)\n",
    "test_data['filtered_text'] = test_data.apply (lambda row: text_words(row['text'], True), axis=1)\n"
   ]
  },
  {
   "cell_type": "code",
   "execution_count": 6,
   "metadata": {},
   "outputs": [],
   "source": [
    "def extract_cue_phrases(sen): \n",
    "    # initialize binary vector to 0s, set to 1 if condition met \n",
    "    feats = [0]* 18\n",
    "    \n",
    "    # If utterance length is less than 3 \n",
    "    if len(sen) <= 3:\n",
    "        feats[0] = 1\n",
    "    # If utterance length is longer than 10 \n",
    "    if len(sen) >= 10: \n",
    "        feats[1] = 1\n",
    "    # Pull out a question\n",
    "    if '?' in sen:\n",
    "        feats[2] = 1\n",
    "    # Uninterpretable\n",
    "    if '-' in sen:\n",
    "        feats[3] = 1\n",
    "    # If sentence starts with a \"yes\"\n",
    "    if sen[0] == \"yes\" :\n",
    "        feats[4] = 1\n",
    "    # If sentence starts with a \"no\"\n",
    "    if sen[0] == \"no\":\n",
    "        feats[5] = 1\n",
    "    # If sentence starts with a \"yeah\"\n",
    "    if sen[0] == \"yeah\":\n",
    "        feats[6] = 1    \n",
    "    # If sentence contains \"yes\"\n",
    "    if \"yes\" in sen:\n",
    "        feats[7] = 1\n",
    "    # If sentence contains \"no\"\n",
    "    if \"no\" in sen:\n",
    "        feats[8] = 1\n",
    "    # If sentence contains \"yeah\" -- tends to be uninterpretable\n",
    "    if \"yeah\" in sen:\n",
    "        feats[9] = 1\n",
    "    # If sentence starts with \"do you\"\n",
    "    if sen[0] == \"do\" and sen[1] == \"you\":\n",
    "        feats[10] = 1\n",
    "    # If sentence starts with \"did you\"\n",
    "    if sen[0] == \"did\" and sen[1] == \"you\":\n",
    "        feats[11] = 1\n",
    "    # Extract statement-opinion\n",
    "    if \"i think\" in str(sen):\n",
    "        feats[12] = 1\n",
    "    # Agreement\n",
    "    if \"right\" == sen[0]:\n",
    "        feats[13] = 1\n",
    "    # If sentence starts with \"okay\"\n",
    "    if \"okay\" == sen[0]:\n",
    "        feats[14] = 1\n",
    "    # Extract acknowledge\n",
    "    if \"uh-huh\" in sen:\n",
    "        feats[15] = 1\n",
    "    # Pull out non-verbals \n",
    "    if \"<\" or \">\" in sen: \n",
    "        feats[16] = 1\n",
    "    # conventional closing \n",
    "    if \"well\" or \"bye\" in sen :\n",
    "        feats[17] = 1\n",
    "\n",
    "\n",
    "    return feats\n",
    "    "
   ]
  },
  {
   "cell_type": "code",
   "execution_count": 7,
   "metadata": {},
   "outputs": [
    {
     "name": "stderr",
     "output_type": "stream",
     "text": [
      "/usr/local/lib/python3.7/site-packages/ipykernel_launcher.py:1: SettingWithCopyWarning: \n",
      "A value is trying to be set on a copy of a slice from a DataFrame.\n",
      "Try using .loc[row_indexer,col_indexer] = value instead\n",
      "\n",
      "See the caveats in the documentation: http://pandas.pydata.org/pandas-docs/stable/indexing.html#indexing-view-versus-copy\n",
      "  \"\"\"Entry point for launching an IPython kernel.\n",
      "/usr/local/lib/python3.7/site-packages/ipykernel_launcher.py:2: SettingWithCopyWarning: \n",
      "A value is trying to be set on a copy of a slice from a DataFrame.\n",
      "Try using .loc[row_indexer,col_indexer] = value instead\n",
      "\n",
      "See the caveats in the documentation: http://pandas.pydata.org/pandas-docs/stable/indexing.html#indexing-view-versus-copy\n",
      "  \n"
     ]
    }
   ],
   "source": [
    "data['cue_phrases']      = data.apply (lambda row: extract_cue_phrases(row['filtered_text']), axis=1)\n",
    "test_data['cue_phrases'] = test_data.apply (lambda row: extract_cue_phrases(row['filtered_text']), axis=1)\n"
   ]
  },
  {
   "cell_type": "code",
   "execution_count": 8,
   "metadata": {},
   "outputs": [],
   "source": [
    "# targets\n",
    "train_targets = data['act_tag']\n",
    "# targets\n",
    "test_targets = test_data['act_tag']\n",
    "y_test = np.array(test_targets)\n"
   ]
  },
  {
   "cell_type": "code",
   "execution_count": 9,
   "metadata": {},
   "outputs": [],
   "source": [
    "# split column of lists into new dataframe\n",
    "train_df = pd.DataFrame(data.cue_phrases.values.tolist()).add_prefix('feat_')\n",
    "test_df = pd.DataFrame(test_data.cue_phrases.values.tolist()).add_prefix('feat_')\n",
    "\n",
    "x_train = np.array(train_df)\n",
    "y_train = np.array(train_targets)\n",
    "x_test = np.array(test_df)\n",
    "\n",
    "scaler = preprocessing.Normalizer()\n",
    "x_train = scaler.fit_transform(x_train)\n",
    "x_train = scaler.fit_transform(x_train)\n",
    "x_test = scaler.transform(x_test) \n",
    "\n",
    "scaler = preprocessing.RobustScaler()\n",
    "x_train = scaler.fit_transform(x_train)\n",
    "x_test = scaler.transform(x_test) \n"
   ]
  },
  {
   "cell_type": "code",
   "execution_count": 10,
   "metadata": {},
   "outputs": [],
   "source": [
    "clf = MLPClassifier(hidden_layer_sizes=(100,), max_iter=300, \n",
    "                    alpha=0.0001, early_stopping=True, \n",
    "                    solver='lbfgs', verbose=10,\n",
    "                    random_state=1,tol=1e-9)"
   ]
  },
  {
   "cell_type": "code",
   "execution_count": 11,
   "metadata": {},
   "outputs": [
    {
     "data": {
      "text/plain": [
       "MLPClassifier(activation='relu', alpha=0.0001, batch_size='auto', beta_1=0.9,\n",
       "       beta_2=0.999, early_stopping=True, epsilon=1e-08,\n",
       "       hidden_layer_sizes=(100,), learning_rate='constant',\n",
       "       learning_rate_init=0.001, max_iter=300, momentum=0.9,\n",
       "       n_iter_no_change=10, nesterovs_momentum=True, power_t=0.5,\n",
       "       random_state=1, shuffle=True, solver='lbfgs', tol=1e-09,\n",
       "       validation_fraction=0.1, verbose=10, warm_start=False)"
      ]
     },
     "execution_count": 11,
     "metadata": {},
     "output_type": "execute_result"
    }
   ],
   "source": [
    "clf.fit(x_train, y_train)"
   ]
  },
  {
   "cell_type": "code",
   "execution_count": 12,
   "metadata": {},
   "outputs": [
    {
     "name": "stdout",
     "output_type": "stream",
     "text": [
      "[[1990    1  357    0    0    0    0   92    0    0]\n",
      " [   2    3  775    0    0    9    0   70    0    0]\n",
      " [  25    4 6085    0    0   13    0   30    0    0]\n",
      " [  11    6  564    0    0    1    0  174    0    0]\n",
      " [   4    0  246    0    0    0    0  141    0    0]\n",
      " [   0    0  405    0    0    8    0    0    0    0]\n",
      " [  23    0   60    0    0    0   99  334    0    0]\n",
      " [ 484    0  702    0    0    1    1 9099    0    0]\n",
      " [ 154    0  360    0    0    0    0 3638    0    0]\n",
      " [   0    0  564    0    0    0    0    5    0    0]]\n"
     ]
    }
   ],
   "source": [
    "y_pred = clf.predict(x_test)\n",
    "print(confusion_matrix(y_test,y_pred))\n"
   ]
  },
  {
   "cell_type": "code",
   "execution_count": 13,
   "metadata": {
    "scrolled": true
   },
   "outputs": [
    {
     "name": "stdout",
     "output_type": "stream",
     "text": [
      "              precision    recall  f1-score   support\n",
      "\n",
      "           %       0.74      0.82      0.78      2440\n",
      "          aa       0.21      0.00      0.01       859\n",
      "           b       0.60      0.99      0.75      6157\n",
      "          ba       0.00      0.00      0.00       756\n",
      "          fc       0.00      0.00      0.00       391\n",
      "          ny       0.25      0.02      0.04       413\n",
      "          qy       0.99      0.19      0.32       516\n",
      "          sd       0.67      0.88      0.76     10287\n",
      "          sv       0.00      0.00      0.00      4152\n",
      "           x       0.00      0.00      0.00       569\n",
      "\n",
      "   micro avg       0.65      0.65      0.65     26540\n",
      "   macro avg       0.35      0.29      0.26     26540\n",
      "weighted avg       0.50      0.65      0.55     26540\n",
      "\n"
     ]
    },
    {
     "name": "stderr",
     "output_type": "stream",
     "text": [
      "/usr/local/lib/python3.7/site-packages/sklearn/metrics/classification.py:1143: UndefinedMetricWarning: Precision and F-score are ill-defined and being set to 0.0 in labels with no predicted samples.\n",
      "  'precision', 'predicted', average, warn_for)\n"
     ]
    }
   ],
   "source": [
    "print(classification_report(y_test,y_pred))\n"
   ]
  },
  {
   "cell_type": "code",
   "execution_count": 14,
   "metadata": {},
   "outputs": [
    {
     "data": {
      "text/plain": [
       "array([0.81557377, 0.00349243, 0.98830599, 0.        , 0.        ,\n",
       "       0.01937046, 0.19186047, 0.88451444, 0.        , 0.        ])"
      ]
     },
     "execution_count": 14,
     "metadata": {},
     "output_type": "execute_result"
    }
   ],
   "source": [
    "cm = confusion_matrix(y_test,y_pred)\n",
    "cm.diagonal()/cm.sum(axis=1)"
   ]
  },
  {
   "cell_type": "code",
   "execution_count": 15,
   "metadata": {},
   "outputs": [
    {
     "data": {
      "text/plain": [
       "0.651243406179352"
      ]
     },
     "execution_count": 15,
     "metadata": {},
     "output_type": "execute_result"
    }
   ],
   "source": [
    "accuracy_score(y_test, y_pred)\n"
   ]
  },
  {
   "cell_type": "code",
   "execution_count": 16,
   "metadata": {},
   "outputs": [],
   "source": [
    "# just the new features \n",
    "train_df.to_csv('cue_train.csv')\n",
    "test_df.to_csv('cue_test.csv')\n"
   ]
  },
  {
   "cell_type": "code",
   "execution_count": 55,
   "metadata": {},
   "outputs": [],
   "source": [
    "# index of ? is 2 \n",
    "train_targets = train_targets.reset_index(drop=True)\n"
   ]
  },
  {
   "cell_type": "code",
   "execution_count": 62,
   "metadata": {},
   "outputs": [
    {
     "name": "stdout",
     "output_type": "stream",
     "text": [
      "[[0 0 0 ... 0 1 1]\n",
      " [0 0 0 ... 0 1 1]\n",
      " [1 0 0 ... 0 1 1]\n",
      " ...\n",
      " [1 0 0 ... 0 1 1]\n",
      " [1 0 0 ... 0 1 1]\n",
      " [1 0 0 ... 0 1 1]]\n"
     ]
    }
   ],
   "source": [
    "feature_set = np.array(train_df)\n",
    "print(feature_set)"
   ]
  },
  {
   "cell_type": "code",
   "execution_count": 63,
   "metadata": {},
   "outputs": [
    {
     "name": "stdout",
     "output_type": "stream",
     "text": [
      "Counter({'qy': 14, 'fc': 2, 'b': 1, 'sd': 1})\n"
     ]
    }
   ],
   "source": [
    "from collections import Counter\n",
    "\n",
    "q_counts = [] \n",
    "for i,n in enumerate(feature_set): \n",
    "    if n[2] ==1 : \n",
    "        q_counts.append(train_targets.iloc[i])\n",
    "\n",
    "counter = Counter(q_counts)\n",
    "print(counter)\n"
   ]
  },
  {
   "cell_type": "code",
   "execution_count": 64,
   "metadata": {},
   "outputs": [
    {
     "data": {
      "image/png": "[encoded data removed]",
      "text/plain": [
       "<Figure size 432x288 with 1 Axes>"
      ]
     },
     "metadata": {},
     "output_type": "display_data"
    }
   ],
   "source": [
    "import matplotlib.pyplot as plt \n",
    "\n",
    "plt.title(\"'?' Counts\", loc='center')\n",
    "x = counter.keys()\n",
    "y = counter.values()\n",
    "plt.plot(x,y)\n",
    "plt.show()"
   ]
  },
  {
   "cell_type": "code",
   "execution_count": 42,
   "metadata": {},
   "outputs": [
    {
     "name": "stdout",
     "output_type": "stream",
     "text": [
      "CUE PHRASES\n"
     ]
    },
    {
     "data": {
      "text/plain": [
       "<matplotlib.axes._subplots.AxesSubplot at 0x14bd358d0>"
      ]
     },
     "execution_count": 42,
     "metadata": {},
     "output_type": "execute_result"
    },
    {
     "data": {
      "image/png": "[encoded data removed]",
      "text/plain": [
       "<Figure size 720x720 with 2 Axes>"
      ]
     },
     "metadata": {},
     "output_type": "display_data"
    }
   ],
   "source": [
    "import seaborn as sn\n",
    "import matplotlib.pyplot as plt\n",
    "\n",
    "print (\"CUE PHRASES\")\n",
    "df_cm = pd.DataFrame(cm, index = [i for i in act_classes],\n",
    "                  columns = [i for i in act_classes])\n",
    "plt.figure(figsize = (len(cm[0]),len(cm)))\n",
    "sn.heatmap(df_cm, annot=True)\n"
   ]
  },
  {
   "cell_type": "code",
   "execution_count": null,
   "metadata": {},
   "outputs": [],
   "source": []
  },
  {
   "cell_type": "code",
   "execution_count": null,
   "metadata": {},
   "outputs": [],
   "source": []
  },
  {
   "cell_type": "code",
   "execution_count": null,
   "metadata": {},
   "outputs": [],
   "source": []
  }
 ],
 "metadata": {
  "kernelspec": {
   "display_name": "Python 3",
   "language": "python",
   "name": "python3"
  },
  "language_info": {
   "codemirror_mode": {
    "name": "ipython",
    "version": 3
   },
   "file_extension": ".py",
   "mimetype": "text/x-python",
   "name": "python",
   "nbconvert_exporter": "python",
   "pygments_lexer": "ipython3",
   "version": "3.7.3"
  }
 },
 "nbformat": 4,
 "nbformat_minor": 2
}
