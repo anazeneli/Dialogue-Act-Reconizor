{
 "cells": [
  {
   "cell_type": "code",
   "execution_count": 1,
   "metadata": {},
   "outputs": [],
   "source": [
    "import pandas as pd\n",
    "from sklearn.neural_network import MLPClassifier\n",
    "from sklearn import preprocessing\n",
    "from sklearn.metrics import classification_report,confusion_matrix, accuracy_score\n",
    "import numpy as np\n",
    "from sklearn.preprocessing import StandardScaler  \n",
    "\n",
    "train = pd.read_csv(\"train_merged.csv\", low_memory=False)\n",
    "# pd.set_option('display.max_columns', 500)\n",
    "test = pd.read_csv(\"test_merged.csv\", low_memory=False)\n",
    "# targets\n",
    "act_classes = ['sd', 'b', 'sv', '%', 'fc', 'aa', 'ba', 'qy', 'x', 'ny']"
   ]
  },
  {
   "cell_type": "code",
   "execution_count": 2,
   "metadata": {},
   "outputs": [],
   "source": [
    "# training processing\n",
    "train_copy = train.copy()\n",
    "# use only rows w most freq tags\n",
    "data = train_copy[train_copy['act_tag'].isin(act_classes)]\n"
   ]
  },
  {
   "cell_type": "code",
   "execution_count": 3,
   "metadata": {},
   "outputs": [],
   "source": [
    "# test processing\n",
    "test_copy = test.copy()\n",
    "# use only rows w most freq tags\n",
    "test_data = test_copy[test_copy['act_tag'].isin(act_classes)]"
   ]
  },
  {
   "cell_type": "code",
   "execution_count": 4,
   "metadata": {},
   "outputs": [],
   "source": [
    "# targets\n",
    "train_targets = data['act_tag']\n",
    "# targets\n",
    "test_targets = test_data['act_tag']\n",
    "y_test = np.array(test_targets)"
   ]
  },
  {
   "cell_type": "code",
   "execution_count": 5,
   "metadata": {},
   "outputs": [],
   "source": [
    "# LIWC feats\n",
    "# pull out only LIWC features columns\n",
    "LIWC_train = data.loc[:,'WC'::]\n",
    "# pull out only LIWC features columns\n",
    "LIWC_test = test_data.loc[:,'WC'::]"
   ]
  },
  {
   "cell_type": "code",
   "execution_count": 6,
   "metadata": {},
   "outputs": [],
   "source": [
    "combined = pd.read_csv(\"combined_train.csv\", low_memory=False)\n",
    "combined_test= pd.read_csv(\"combined_test.csv\", low_memory=False)"
   ]
  },
  {
   "cell_type": "code",
   "execution_count": 7,
   "metadata": {},
   "outputs": [],
   "source": [
    "combined = pd.concat([LIWC_train, combined], axis=1, join='inner')\n",
    "combined_test = pd.concat([LIWC_test, combined_test], axis=1, join='inner')\n",
    "\n",
    "X_train = np.array(combined)\n",
    "y_train = np.array(train_targets)\n",
    "X_test = np.array(combined_test)"
   ]
  },
  {
   "cell_type": "code",
   "execution_count": 8,
   "metadata": {},
   "outputs": [],
   "source": [
    "combined      = pd.read_csv(\"combined_train.csv\", low_memory=False)\n",
    "combined_test = pd.read_csv(\"combined_test.csv\", low_memory=False)\n",
    "\n",
    "combined.append(LIWC_train, sort=False)\n",
    "combined_test.append(LIWC_test, sort=False)\n",
    "\n",
    "X_train = np.array(combined)\n",
    "y_train = np.array(train_targets)\n",
    "X_test = np.array(combined_test)"
   ]
  },
  {
   "cell_type": "code",
   "execution_count": 9,
   "metadata": {},
   "outputs": [],
   "source": [
    "# standardize \n",
    "scaler = StandardScaler()  \n",
    "# fit only on training data \n",
    "scaler.fit(X_train)  \n",
    "X_train = scaler.transform(X_train)  \n",
    "# apply same transformation to test data\n",
    "X_test = scaler.transform(X_test) "
   ]
  },
  {
   "cell_type": "code",
   "execution_count": 10,
   "metadata": {},
   "outputs": [
    {
     "name": "stdout",
     "output_type": "stream",
     "text": [
      "CLF\n",
      "CLF\n"
     ]
    }
   ],
   "source": [
    "print (\"CLF\") \n",
    "clf = MLPClassifier(hidden_layer_sizes=(100,), max_iter=500, \n",
    "                    alpha=0.0001, early_stopping=True, \n",
    "                    solver='lbfgs', verbose=10,\n",
    "                    random_state=21,tol=0.000000001)\n",
    "clf.fit(X_train, y_train)\n",
    "y_pred = clf.predict(X_test)\n",
    "\n"
   ]
  },
  {
   "cell_type": "code",
   "execution_count": 11,
   "metadata": {},
   "outputs": [
    {
     "name": "stdout",
     "output_type": "stream",
     "text": [
      "[[1973   17  127    7    5    2    5  246   57    1]\n",
      " [   6  362  391    4    4   11    1   53   26    1]\n",
      " [ 108  256 5713   27   14   11    0   20    6    2]\n",
      " [  10  201   26  352   16    0    2   67   78    4]\n",
      " [   5   11   78    9  200    0    6   66   16    0]\n",
      " [   3   56  335    0    0   18    0    1    0    0]\n",
      " [  13   12    5    6    2    0  199  208   70    1]\n",
      " [ 233   59   12   33   26    0  169 8247 1507    1]\n",
      " [  84   59    2   64   12    1   80 2202 1646    2]\n",
      " [   0    0    1    1    1    0    0    2    0  564]]\n",
      "[[1973   17  127    7    5    2    5  246   57    1]\n",
      " [   6  362  391    4    4   11    1   53   26    1]\n",
      " [ 108  256 5713   27   14   11    0   20    6    2]\n",
      " [  10  201   26  352   16    0    2   67   78    4]\n",
      " [   5   11   78    9  200    0    6   66   16    0]\n",
      " [   3   56  335    0    0   18    0    1    0    0]\n",
      " [  13   12    5    6    2    0  199  208   70    1]\n",
      " [ 233   59   12   33   26    0  169 8247 1507    1]\n",
      " [  84   59    2   64   12    1   80 2202 1646    2]\n",
      " [   0    0    1    1    1    0    0    2    0  564]]\n"
     ]
    }
   ],
   "source": [
    "print(confusion_matrix(y_test,y_pred))\n"
   ]
  },
  {
   "cell_type": "code",
   "execution_count": 12,
   "metadata": {},
   "outputs": [
    {
     "name": "stdout",
     "output_type": "stream",
     "text": [
      "              precision    recall  f1-score   support\n",
      "\n",
      "           %       0.81      0.81      0.81      2440\n",
      "          aa       0.35      0.42      0.38       859\n",
      "           b       0.85      0.93      0.89      6157\n",
      "          ba       0.70      0.47      0.56       756\n",
      "          fc       0.71      0.51      0.60       391\n",
      "          ny       0.42      0.04      0.08       413\n",
      "          qy       0.43      0.39      0.41       516\n",
      "          sd       0.74      0.80      0.77     10287\n",
      "          sv       0.48      0.40      0.44      4152\n",
      "           x       0.98      0.99      0.99       569\n",
      "\n",
      "   micro avg       0.73      0.73      0.73     26540\n",
      "   macro avg       0.65      0.58      0.59     26540\n",
      "weighted avg       0.71      0.73      0.72     26540\n",
      "\n",
      "              precision    recall  f1-score   support\n",
      "\n",
      "           %       0.81      0.81      0.81      2440\n",
      "          aa       0.35      0.42      0.38       859\n",
      "           b       0.85      0.93      0.89      6157\n",
      "          ba       0.70      0.47      0.56       756\n",
      "          fc       0.71      0.51      0.60       391\n",
      "          ny       0.42      0.04      0.08       413\n",
      "          qy       0.43      0.39      0.41       516\n",
      "          sd       0.74      0.80      0.77     10287\n",
      "          sv       0.48      0.40      0.44      4152\n",
      "           x       0.98      0.99      0.99       569\n",
      "\n",
      "   micro avg       0.73      0.73      0.73     26540\n",
      "   macro avg       0.65      0.58      0.59     26540\n",
      "weighted avg       0.71      0.73      0.72     26540\n",
      "\n"
     ]
    }
   ],
   "source": [
    "print(classification_report(y_test,y_pred))\n"
   ]
  },
  {
   "cell_type": "code",
   "execution_count": 13,
   "metadata": {},
   "outputs": [
    {
     "data": {
      "text/plain": [
       "array([0.80860656, 0.42142026, 0.92788696, 0.46560847, 0.51150895,\n",
       "       0.04358354, 0.38565891, 0.80169146, 0.39643545, 0.99121265])"
      ]
     },
     "execution_count": 13,
     "metadata": {},
     "output_type": "execute_result"
    },
    {
     "data": {
      "text/plain": [
       "array([0.80860656, 0.42142026, 0.92788696, 0.46560847, 0.51150895,\n",
       "       0.04358354, 0.38565891, 0.80169146, 0.39643545, 0.99121265])"
      ]
     },
     "execution_count": 13,
     "metadata": {},
     "output_type": "execute_result"
    }
   ],
   "source": [
    "cm = confusion_matrix(y_test,y_pred)\n",
    "cm.diagonal()/cm.sum(axis=1)\n"
   ]
  },
  {
   "cell_type": "code",
   "execution_count": 14,
   "metadata": {},
   "outputs": [
    {
     "data": {
      "text/plain": [
       "0.726224566691786"
      ]
     },
     "execution_count": 14,
     "metadata": {},
     "output_type": "execute_result"
    },
    {
     "data": {
      "text/plain": [
       "0.726224566691786"
      ]
     },
     "execution_count": 14,
     "metadata": {},
     "output_type": "execute_result"
    }
   ],
   "source": [
    "accuracy_score(y_test, y_pred)\n"
   ]
  },
  {
   "cell_type": "raw",
   "metadata": {},
   "source": []
  }
 ],
 "metadata": {
  "kernelspec": {
   "display_name": "Python 3",
   "language": "python",
   "name": "python3"
  },
  "language_info": {
   "codemirror_mode": {
    "name": "ipython",
    "version": 3
   },
   "file_extension": ".py",
   "mimetype": "text/x-python",
   "name": "python",
   "nbconvert_exporter": "python",
   "pygments_lexer": "ipython3",
   "version": "3.7.3"
  }
 },
 "nbformat": 4,
 "nbformat_minor": 2
}
