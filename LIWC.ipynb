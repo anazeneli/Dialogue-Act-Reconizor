{
 "cells": [
  {
   "cell_type": "code",
   "execution_count": 14,
   "metadata": {},
   "outputs": [],
   "source": [
    "import pandas as pd\n",
    "from sklearn.neural_network import MLPClassifier\n",
    "from sklearn import preprocessing\n",
    "from sklearn.metrics import classification_report,confusion_matrix, accuracy_score\n",
    "import numpy as np\n",
    "from sklearn.preprocessing import StandardScaler  \n",
    "\n",
    "train = pd.read_csv(\"train_merged.csv\", low_memory=False)\n",
    "# pd.set_option('display.max_columns', 500)\n",
    "test = pd.read_csv(\"test_merged.csv\", low_memory=False)\n",
    "# targets\n",
    "act_classes = ['sd', 'b', 'sv', '%', 'fc', 'aa', 'ba', 'qy', 'x', 'ny']"
   ]
  },
  {
   "cell_type": "code",
   "execution_count": 15,
   "metadata": {},
   "outputs": [],
   "source": [
    "# training processing\n",
    "train_copy = train.copy()\n",
    "# use only rows w most freq tags\n",
    "data = train_copy[train_copy['act_tag'].isin(act_classes)]\n"
   ]
  },
  {
   "cell_type": "code",
   "execution_count": 16,
   "metadata": {},
   "outputs": [],
   "source": [
    "# test processing\n",
    "test_copy = test.copy()\n",
    "# use only rows w most freq tags\n",
    "test_data = test_copy[test_copy['act_tag'].isin(act_classes)]"
   ]
  },
  {
   "cell_type": "code",
   "execution_count": 19,
   "metadata": {},
   "outputs": [
    {
     "name": "stdout",
     "output_type": "stream",
     "text": [
      "(147510, 89)\n",
      "(147510,)\n"
     ]
    }
   ],
   "source": [
    "# targets\n",
    "train_targets = data['act_tag']\n",
    "# targets\n",
    "test_targets = test_data['act_tag']\n",
    "y_test = np.array(test_targets)\n",
    "\n",
    "# pull out only LIWC features columns\n",
    "LIWC_train = data.loc[:,'WC'::]\n",
    "# pull out only LIWC features columns\n",
    "LIWC_test = test_data.loc[:,'WC'::]\n",
    "\n",
    "X_train = np.array(LIWC_train)\n",
    "y_train = np.array(train_targets)\n",
    "X_test = np.array(LIWC_test)"
   ]
  },
  {
   "cell_type": "code",
   "execution_count": 13,
   "metadata": {},
   "outputs": [],
   "source": [
    "# standardize \n",
    "scaler = StandardScaler()  \n",
    "# fit only on training data \n",
    "scaler.fit(X_train)  \n",
    "X_train = scaler.transform(X_train)  \n",
    "# apply same transformation to test data\n",
    "X_test = scaler.transform(X_test) "
   ]
  },
  {
   "cell_type": "code",
   "execution_count": 5,
   "metadata": {},
   "outputs": [
    {
     "name": "stdout",
     "output_type": "stream",
     "text": [
      "CLF\n"
     ]
    }
   ],
   "source": [
    "print (\"CLF\") \n",
    "clf = MLPClassifier(hidden_layer_sizes=(100,), max_iter=500, \n",
    "                    alpha=0.0001, early_stopping=True, \n",
    "                    solver='lbfgs', verbose=10,\n",
    "                    random_state=21,tol=0.000000001)\n",
    "clf.fit(X_train, y_train)\n",
    "y_pred = clf.predict(X_test)\n",
    "\n"
   ]
  },
  {
   "cell_type": "code",
   "execution_count": 6,
   "metadata": {},
   "outputs": [
    {
     "name": "stdout",
     "output_type": "stream",
     "text": [
      "[[1875   18  231    6    2    1   10  247   49    1]\n",
      " [   4  333  451    9    0    4    1   42   15    0]\n",
      " [  41  173 5885   33    6    3    1    9    3    3]\n",
      " [   9  210   24  381    0    2    2   59   68    1]\n",
      " [   5    1   84   10  230    0    1   46   14    0]\n",
      " [   5    9  395    0    0    4    0    0    0    0]\n",
      " [  14    3    0    1    0    0  395   62   41    0]\n",
      " [ 203   72    4   40   14    0   31 8875 1046    2]\n",
      " [  89   72    3   65    7    0   23 2076 1816    1]\n",
      " [   1    0    0    0    0    0    0    2    0  566]]\n"
     ]
    }
   ],
   "source": [
    "print(confusion_matrix(y_test,y_pred))\n"
   ]
  },
  {
   "cell_type": "code",
   "execution_count": 7,
   "metadata": {},
   "outputs": [
    {
     "name": "stdout",
     "output_type": "stream",
     "text": [
      "              precision    recall  f1-score   support\n",
      "\n",
      "           %       0.83      0.77      0.80      2440\n",
      "          aa       0.37      0.39      0.38       859\n",
      "           b       0.83      0.96      0.89      6157\n",
      "          ba       0.70      0.50      0.59       756\n",
      "          fc       0.89      0.59      0.71       391\n",
      "          ny       0.29      0.01      0.02       413\n",
      "          qy       0.85      0.77      0.81       516\n",
      "          sd       0.78      0.86      0.82     10287\n",
      "          sv       0.60      0.44      0.50      4152\n",
      "           x       0.99      0.99      0.99       569\n",
      "\n",
      "   micro avg       0.77      0.77      0.77     26540\n",
      "   macro avg       0.71      0.63      0.65     26540\n",
      "weighted avg       0.75      0.77      0.75     26540\n",
      "\n"
     ]
    }
   ],
   "source": [
    "print(classification_report(y_test,y_pred))\n"
   ]
  },
  {
   "cell_type": "code",
   "execution_count": 8,
   "metadata": {},
   "outputs": [
    {
     "data": {
      "text/plain": [
       "array([0.76844262, 0.38766007, 0.95582264, 0.50396825, 0.58823529,\n",
       "       0.00968523, 0.76550388, 0.86273938, 0.43737958, 0.99472759])"
      ]
     },
     "execution_count": 8,
     "metadata": {},
     "output_type": "execute_result"
    }
   ],
   "source": [
    "cm = confusion_matrix(y_test,y_pred)\n",
    "cm.diagonal()/cm.sum(axis=1)\n"
   ]
  },
  {
   "cell_type": "code",
   "execution_count": 9,
   "metadata": {},
   "outputs": [
    {
     "data": {
      "text/plain": [
       "0.7671439336850038"
      ]
     },
     "execution_count": 9,
     "metadata": {},
     "output_type": "execute_result"
    }
   ],
   "source": [
    "accuracy_score(y_test, y_pred)\n"
   ]
  },
  {
   "cell_type": "raw",
   "metadata": {},
   "source": []
  }
 ],
 "metadata": {
  "kernelspec": {
   "display_name": "Python 3",
   "language": "python",
   "name": "python3"
  },
  "language_info": {
   "codemirror_mode": {
    "name": "ipython",
    "version": 3
   },
   "file_extension": ".py",
   "mimetype": "text/x-python",
   "name": "python",
   "nbconvert_exporter": "python",
   "pygments_lexer": "ipython3",
   "version": "3.7.3"
  }
 },
 "nbformat": 4,
 "nbformat_minor": 2
}
